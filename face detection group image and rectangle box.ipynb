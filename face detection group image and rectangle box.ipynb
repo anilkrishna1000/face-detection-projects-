{
 "cells": [
  {
   "cell_type": "code",
   "execution_count": 3,
   "metadata": {},
   "outputs": [],
   "source": [
    "\n",
    "import cv2\n",
    "import dlib\n",
    "import face_recognition"
   ]
  },
  {
   "cell_type": "code",
   "execution_count": 4,
   "metadata": {},
   "outputs": [],
   "source": [
    "image=cv2.imread(\"C:\\\\Users\\\\anilkrishna\\\\Downloads\\\\download (2).jpg\")\n",
    "cv2.imshow(\"result\",image)\n",
    "cv2.waitKey(0)\n",
    "cv2.destroyAllWindows()"
   ]
  },
  {
   "cell_type": "code",
   "execution_count": 5,
   "metadata": {},
   "outputs": [
    {
     "name": "stdout",
     "output_type": "stream",
     "text": [
      "[(22, 269, 58, 233), (42, 113, 78, 77), (30, 73, 66, 37), (42, 173, 78, 137), (42, 221, 78, 185)]\n"
     ]
    }
   ],
   "source": [
    "no_faces=face_recognition.face_locations(image,model=\"hog\")\n",
    "print(no_faces)"
   ]
  },
  {
   "cell_type": "code",
   "execution_count": 6,
   "metadata": {},
   "outputs": [
    {
     "name": "stdout",
     "output_type": "stream",
     "text": [
      "[(29, 76, 69, 37), (17, 272, 57, 233), (37, 116, 77, 77), (37, 224, 77, 185)]\n"
     ]
    }
   ],
   "source": [
    "no_faces=face_recognition.face_locations(image,model=\"cnn\")\n",
    "print(no_faces)"
   ]
  },
  {
   "cell_type": "code",
   "execution_count": 7,
   "metadata": {},
   "outputs": [
    {
     "name": "stdout",
     "output_type": "stream",
     "text": [
      "4\n"
     ]
    }
   ],
   "source": [
    "length_of_faces=len(no_faces)\n",
    "print(length_of_faces)"
   ]
  },
  {
   "cell_type": "code",
   "execution_count": 8,
   "metadata": {},
   "outputs": [],
   "source": [
    "for index,current_face_location in enumerate(no_faces):\n",
    "    top_pos,right_pos,bottom_pos,left_pos=current_face_location\n",
    "    current_image=image[top_pos:bottom_pos,left_pos:right_pos]\n",
    "    cv2.imshow(\"result\",image)\n",
    "    \n",
    "cv2.waitKey(0)\n",
    "cv2.destroyAllWindows()"
   ]
  },
  {
   "cell_type": "code",
   "execution_count": 2,
   "metadata": {},
   "outputs": [
    {
     "name": "stdout",
     "output_type": "stream",
     "text": [
      "<class 'numpy.ndarray'>\n",
      "[[232  18  38  38]\n",
      " [ 31  27  45  45]\n",
      " [ 79  37  36  36]\n",
      " [190  42  33  33]\n",
      " [140  41  33  33]]\n"
     ]
    }
   ],
   "source": [
    "import cv2\n",
    "\n",
    "# Create a CascadeClassifier Object\n",
    "face_cascade = cv2.CascadeClassifier(\"C:\\\\Users\\\\anilkrishna\\\\Downloads\\\\haarcascade_frontalface_default.xml\")\n",
    "\n",
    "# Reading the image as it is\n",
    "img = cv2.imread(\"C:\\\\Users\\\\anilkrishna\\\\Downloads\\\\download (2).jpg\")\n",
    "\n",
    "# Reading the image as gray scale image\n",
    "gray_img = cv2.cvtColor(img,cv2.COLOR_BGR2GRAY)\n",
    "\n",
    "# Search the co-ordintes of the image\n",
    "faces = face_cascade.detectMultiScale(gray_img, scaleFactor = 1.05,\n",
    "                                      minNeighbors=5)\n",
    "print(type(faces))\n",
    "print(faces)\n",
    "\n",
    "for x,y,w,h in faces:\n",
    "    img = cv2.rectangle(img, (x,y), (x+w,y+h),(0,0,256),3)\n",
    "\n",
    "resized = cv2.resize(img, (int(img.shape[0]/7),int(img.shape[0]/7)))\n",
    "\n",
    "cv2.imshow(\"Gray\", img)\n",
    "\n",
    "cv2.waitKey(0)\n",
    "\n",
    "cv2.destroyAllWindows()"
   ]
  },
  {
   "cell_type": "code",
   "execution_count": null,
   "metadata": {},
   "outputs": [],
   "source": []
  }
 ],
 "metadata": {
  "kernelspec": {
   "display_name": "Python 3",
   "language": "python",
   "name": "python3"
  },
  "language_info": {
   "codemirror_mode": {
    "name": "ipython",
    "version": 3
   },
   "file_extension": ".py",
   "mimetype": "text/x-python",
   "name": "python",
   "nbconvert_exporter": "python",
   "pygments_lexer": "ipython3",
   "version": "3.7.9"
  }
 },
 "nbformat": 4,
 "nbformat_minor": 4
}
